{
 "cells": [
  {
   "cell_type": "markdown",
   "id": "7461cda1-bc86-4f98-9a28-c3ab8f429a55",
   "metadata": {},
   "source": [
    "# Importing libraries and initializing data"
   ]
  },
  {
   "cell_type": "code",
   "execution_count": 1,
   "id": "29b1d528-a0ab-43b8-bfa9-a7e853169538",
   "metadata": {},
   "outputs": [],
   "source": [
    "import matplotlib.pyplot as plt\n",
    "\n",
    "# 3 arrays of 20 random numbers ranging from 20 to 50\n",
    "arr1 = [29, 42, 30, 44, 48, 35, 27, 26, 49, 30, 38, 44, 42, 50, 35, 34, 25, 28, 31, 33]\n",
    "arr2 = [20, 30, 41, 39, 38, 27, 22, 48, 44, 24, 45, 49, 33, 40, 46, 31, 29, 29, 50, 38]\n",
    "arr3 = [49, 37, 23, 50, 44, 27, 43, 39, 32, 22, 25, 41, 48, 29, 44, 27, 41, 38, 42, 30]\n",
    "\n",
    "# generated using the code below\n",
    "# import random\n",
    "# random_numbers = [random.randint(20, 50) for _ in range(20)]\n",
    "# print(random_numbers)"
   ]
  },
  {
   "cell_type": "markdown",
   "id": "0b4901d1-0c37-4a60-8083-ae06cda55dac",
   "metadata": {},
   "source": [
    "# Normalisation (Z-score)\n",
    "$$x'=\\frac{x-\\mu}{\\sigma}$$\n",
    "- $\\mu=$ Mean of the dataset.\n",
    "- $\\sigma=$ Standard deviation of the dataset.\n",
    "\n",
    "Normalisation is a variation of scaling that represents the number of standard deviations away from the mean.<br/>\n",
    "The normalised distribution always has mean$=0$ and standard-deviation$=1$. It’s useful when there are a few outliers, but not so extreme that you need clipping.\n",
    "# Standardisation (Min-max scaling)\n",
    "$$x' = \\frac{x-x_{min}}{x_{max}-x_{min}}$$\n",
    "Standardisation is a good choice when both of the following conditions are met:\n",
    "- You know the approximate upper and lower bounds on your data with few or no outliers.\n",
    "- Your data is approximately uniformly distributed across that range.\n",
    "\n",
    "A good example is age. Most age values falls between 0 and 90, and every part of the range has a substantial number of people.\n",
    "In contrast, you would not use scaling on income, because only a few people have very high incomes. The upper bound of the linear scale for income would be very high, and most people would be squeezed into a small part of the scale."
   ]
  },
  {
   "cell_type": "code",
   "execution_count": 2,
   "id": "0c61e169-16d8-4c2f-ba66-fffd1c9864ea",
   "metadata": {},
   "outputs": [],
   "source": [
    "mean = lambda arr: sum(arr) / len(arr)\n",
    "\n",
    "def variance(dataset):\n",
    "    average = mean(dataset)\n",
    "    numerator = sum([(n - average) ** 2 for n in dataset])\n",
    "    denominator = len(dataset) - 1\n",
    "    return numerator / denominator\n",
    "\n",
    "def standardize(dataset):\n",
    "    average = mean(dataset)\n",
    "    numerator = sum([(n - average) ** 2 for n in dataset])\n",
    "    denominator = len(dataset) - 1\n",
    "    var = numerator / denominator\n",
    "    standard_deviation = var ** 0.5\n",
    "    return [(n - average) / standard_deviation for n in dataset]\n",
    "\n",
    "def normalize(arr):\n",
    "    val_min = min(arr)\n",
    "    val_max = max(arr)\n",
    "    range = val_max - val_min\n",
    "    return [(i - val_min) / range for i in arr]"
   ]
  },
  {
   "cell_type": "code",
   "execution_count": 3,
   "id": "3af8133d-5006-4af0-b24e-f087111da0a2",
   "metadata": {},
   "outputs": [
    {
     "name": "stdout",
     "output_type": "stream",
     "text": [
      "Mean of standardised array-2: 0.0\n",
      "Variance of standardised array-2: 1.0\n",
      "\n",
      "Mean of standardised array-3: 0.0\n",
      "Variance of standardised array-3: 1.0\n"
     ]
    }
   ],
   "source": [
    "normal_arr2 = normalize(arr2)\n",
    "normal_arr3 = normalize(arr3)\n",
    "\n",
    "standard_arr2 = standardize(arr2)\n",
    "standard_arr3 = standardize(arr3)\n",
    "\n",
    "print(f\"Mean of standardised array-2: {round(mean(standard_arr2),3)}\")\n",
    "print(f\"Variance of standardised array-2: {round(variance(standard_arr2),3)}\\n\")\n",
    "\n",
    "print(f\"Mean of standardised array-3: {round(mean(standard_arr3),3)}\")\n",
    "print(f\"Variance of standardised array-3: {round(variance(standard_arr3),3)}\")"
   ]
  },
  {
   "cell_type": "code",
   "execution_count": 4,
   "id": "e571689b-218d-467b-a66d-cd771b2d0116",
   "metadata": {},
   "outputs": [],
   "source": [
    "# figure 1\n",
    "plt.scatter(arr2, arr3, 20, color = 'red')\n",
    "plt.grid(True); plt.tight_layout()\n",
    "plt.savefig('fig1.png'); plt.close()\n",
    "\n",
    "# figure 2\n",
    "plt.scatter(normal_arr2, normal_arr3, 20, color = 'blue')\n",
    "plt.grid(True); plt.tight_layout()\n",
    "plt.savefig('fig2.png'); plt.close()\n",
    "\n",
    "# figure 3\n",
    "plt.scatter(standard_arr2, standard_arr3, 20, color = 'blue')\n",
    "plt.grid(True); plt.tight_layout()\n",
    "plt.savefig('fig3.png'); plt.close()"
   ]
  },
  {
   "cell_type": "markdown",
   "id": "3e7c263e-09e7-4520-90a3-b51f0d08e078",
   "metadata": {},
   "source": [
    "# Normalisation output\n",
    "|Original Graph|Normalised Graph|\n",
    "|-|-|\n",
    "|![](fig1.png)|![](fig2.png)|\n",
    "# Standardisation output\n",
    "|Original Graph|Standardised Graph|\n",
    "|-|-|\n",
    "|![](fig1.png)|![](fig3.png)|\n",
    "***"
   ]
  }
 ],
 "metadata": {
  "kernelspec": {
   "display_name": "Python 3 (ipykernel)",
   "language": "python",
   "name": "python3"
  },
  "language_info": {
   "codemirror_mode": {
    "name": "ipython",
    "version": 3
   },
   "file_extension": ".py",
   "mimetype": "text/x-python",
   "name": "python",
   "nbconvert_exporter": "python",
   "pygments_lexer": "ipython3",
   "version": "3.8.10"
  }
 },
 "nbformat": 4,
 "nbformat_minor": 5
}
