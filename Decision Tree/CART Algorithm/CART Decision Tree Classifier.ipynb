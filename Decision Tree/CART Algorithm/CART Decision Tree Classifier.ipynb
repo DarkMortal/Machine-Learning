{
 "cells": [
  {
   "cell_type": "markdown",
   "id": "049e2f50-f71d-4479-a913-fa016d80de01",
   "metadata": {},
   "source": [
    "# CART (Classification and Regression Trees)\n",
    "- Target feature: ```play```\n",
    "- We will split the dataset based on the feature that has the minimum **gini impurity**.\n",
    "- We will keep repeating this until the whole dataset is classified on the basis of the key feature.\n",
    "## Gini Impurity of a dataset\n",
    "$$\\text{Gini Impurity(dataset)} = 1-\\sum_{i=0}^n p_i^2$$\n",
    "## Gini Impurity of a feature\n",
    "$$\\text{Gini Impurity(feature)} = \\sum_{i=0}^n \\text{Probability of }f_i\\times\\text{Gini Impurity}(\\sigma_{f=f_i}\\text{dataset})$$\n",
    "- $p_i$ is the probability of being selected, of each of the unique values of the key feature. In our case, the key feature is ```play```.\n",
    "- $f_i$ is the $i$-th unique value of that feature.\n",
    "- $\\text{Gini impurity of}\\ f_i$ is the Gini impurity of the dataset, that has $f_i$ as that value for feature $f$, w.r.t. the key feature.\n",
    "\n",
    "**Note:** Gini impurity is also called gini index.\n",
    "# Importing libraries and datasets"
   ]
  },
  {
   "cell_type": "code",
   "execution_count": 1,
   "id": "c6294d9e-eecd-48b6-8a8a-6933d0b520cd",
   "metadata": {},
   "outputs": [],
   "source": [
    "import numpy as np\n",
    "import pandas as pd\n",
    "\n",
    "data = pd.read_csv(\"./PlayTennis.csv\")\n",
    "key_feature = \"play\""
   ]
  },
  {
   "cell_type": "code",
   "execution_count": 2,
   "id": "5f5a12b2-8c19-45b1-b9ae-769942f58ae6",
   "metadata": {},
   "outputs": [
    {
     "data": {
      "text/html": [
       "<div>\n",
       "<style scoped>\n",
       "    .dataframe tbody tr th:only-of-type {\n",
       "        vertical-align: middle;\n",
       "    }\n",
       "\n",
       "    .dataframe tbody tr th {\n",
       "        vertical-align: top;\n",
       "    }\n",
       "\n",
       "    .dataframe thead th {\n",
       "        text-align: right;\n",
       "    }\n",
       "</style>\n",
       "<table border=\"1\" class=\"dataframe\">\n",
       "  <thead>\n",
       "    <tr style=\"text-align: right;\">\n",
       "      <th></th>\n",
       "      <th>weather</th>\n",
       "      <th>temp</th>\n",
       "      <th>humidity</th>\n",
       "      <th>windy</th>\n",
       "      <th>play</th>\n",
       "    </tr>\n",
       "  </thead>\n",
       "  <tbody>\n",
       "    <tr>\n",
       "      <th>0</th>\n",
       "      <td>sunny</td>\n",
       "      <td>hot</td>\n",
       "      <td>high</td>\n",
       "      <td>False</td>\n",
       "      <td>no</td>\n",
       "    </tr>\n",
       "    <tr>\n",
       "      <th>1</th>\n",
       "      <td>sunny</td>\n",
       "      <td>hot</td>\n",
       "      <td>high</td>\n",
       "      <td>True</td>\n",
       "      <td>no</td>\n",
       "    </tr>\n",
       "    <tr>\n",
       "      <th>2</th>\n",
       "      <td>overcast</td>\n",
       "      <td>hot</td>\n",
       "      <td>high</td>\n",
       "      <td>False</td>\n",
       "      <td>yes</td>\n",
       "    </tr>\n",
       "    <tr>\n",
       "      <th>3</th>\n",
       "      <td>rainy</td>\n",
       "      <td>mild</td>\n",
       "      <td>high</td>\n",
       "      <td>False</td>\n",
       "      <td>yes</td>\n",
       "    </tr>\n",
       "    <tr>\n",
       "      <th>4</th>\n",
       "      <td>rainy</td>\n",
       "      <td>cool</td>\n",
       "      <td>normal</td>\n",
       "      <td>False</td>\n",
       "      <td>yes</td>\n",
       "    </tr>\n",
       "    <tr>\n",
       "      <th>5</th>\n",
       "      <td>rainy</td>\n",
       "      <td>cool</td>\n",
       "      <td>normal</td>\n",
       "      <td>True</td>\n",
       "      <td>no</td>\n",
       "    </tr>\n",
       "    <tr>\n",
       "      <th>6</th>\n",
       "      <td>overcast</td>\n",
       "      <td>cool</td>\n",
       "      <td>normal</td>\n",
       "      <td>True</td>\n",
       "      <td>yes</td>\n",
       "    </tr>\n",
       "    <tr>\n",
       "      <th>7</th>\n",
       "      <td>sunny</td>\n",
       "      <td>mild</td>\n",
       "      <td>high</td>\n",
       "      <td>False</td>\n",
       "      <td>no</td>\n",
       "    </tr>\n",
       "    <tr>\n",
       "      <th>8</th>\n",
       "      <td>sunny</td>\n",
       "      <td>cool</td>\n",
       "      <td>normal</td>\n",
       "      <td>False</td>\n",
       "      <td>yes</td>\n",
       "    </tr>\n",
       "    <tr>\n",
       "      <th>9</th>\n",
       "      <td>rainy</td>\n",
       "      <td>mild</td>\n",
       "      <td>normal</td>\n",
       "      <td>False</td>\n",
       "      <td>yes</td>\n",
       "    </tr>\n",
       "    <tr>\n",
       "      <th>10</th>\n",
       "      <td>sunny</td>\n",
       "      <td>mild</td>\n",
       "      <td>normal</td>\n",
       "      <td>True</td>\n",
       "      <td>yes</td>\n",
       "    </tr>\n",
       "    <tr>\n",
       "      <th>11</th>\n",
       "      <td>overcast</td>\n",
       "      <td>mild</td>\n",
       "      <td>high</td>\n",
       "      <td>True</td>\n",
       "      <td>yes</td>\n",
       "    </tr>\n",
       "    <tr>\n",
       "      <th>12</th>\n",
       "      <td>overcast</td>\n",
       "      <td>hot</td>\n",
       "      <td>normal</td>\n",
       "      <td>False</td>\n",
       "      <td>yes</td>\n",
       "    </tr>\n",
       "    <tr>\n",
       "      <th>13</th>\n",
       "      <td>rainy</td>\n",
       "      <td>mild</td>\n",
       "      <td>high</td>\n",
       "      <td>True</td>\n",
       "      <td>no</td>\n",
       "    </tr>\n",
       "  </tbody>\n",
       "</table>\n",
       "</div>"
      ],
      "text/plain": [
       "     weather  temp humidity  windy play\n",
       "0      sunny   hot     high  False   no\n",
       "1      sunny   hot     high   True   no\n",
       "2   overcast   hot     high  False  yes\n",
       "3      rainy  mild     high  False  yes\n",
       "4      rainy  cool   normal  False  yes\n",
       "5      rainy  cool   normal   True   no\n",
       "6   overcast  cool   normal   True  yes\n",
       "7      sunny  mild     high  False   no\n",
       "8      sunny  cool   normal  False  yes\n",
       "9      rainy  mild   normal  False  yes\n",
       "10     sunny  mild   normal   True  yes\n",
       "11  overcast  mild     high   True  yes\n",
       "12  overcast   hot   normal  False  yes\n",
       "13     rainy  mild     high   True   no"
      ]
     },
     "execution_count": 2,
     "metadata": {},
     "output_type": "execute_result"
    }
   ],
   "source": [
    "data"
   ]
  },
  {
   "cell_type": "markdown",
   "id": "df894a1b-003d-4d42-bf7b-b37bb78abbb4",
   "metadata": {},
   "source": [
    "# Function to calculate gini impurity of a dataset"
   ]
  },
  {
   "cell_type": "code",
   "execution_count": 3,
   "id": "e3a1b509-d93a-4769-9dd8-d4a7845c0691",
   "metadata": {},
   "outputs": [],
   "source": [
    "def gini_impurity(dataset, key = key_feature):\n",
    "    categories = dataset[key].unique()\n",
    "    total_no_obs = dataset.shape[0]\n",
    "    \n",
    "    impurity = 1.0\n",
    "    for category in categories:\n",
    "        number = dataset[dataset[key] == category].shape[0]\n",
    "        prob = float(number) / float(total_no_obs)\n",
    "        impurity -= (prob ** 2)\n",
    "\n",
    "    return impurity"
   ]
  },
  {
   "cell_type": "markdown",
   "id": "316d9f8b-8c80-4f98-accf-6f2e8ca0d51b",
   "metadata": {},
   "source": [
    "# Function to calculate gini impurity of a feature"
   ]
  },
  {
   "cell_type": "code",
   "execution_count": 4,
   "id": "75ac1dc3-3454-4f25-ae7c-1584ce014e42",
   "metadata": {},
   "outputs": [],
   "source": [
    "def gini_impurity_feature(dataset, feature):\n",
    "    categories = dataset[feature].unique()\n",
    "    total_no_obs = dataset.shape[0]\n",
    "\n",
    "    impurity = 0.0\n",
    "    for category in categories:\n",
    "        tmp_dataset = dataset[dataset[feature] == category]\n",
    "        number = tmp_dataset.shape[0]\n",
    "        prob = float(number) / float(total_no_obs)\n",
    "        impurity += (prob * gini_impurity(tmp_dataset))\n",
    "\n",
    "    return impurity"
   ]
  },
  {
   "cell_type": "markdown",
   "id": "a525228e-5d98-491a-a5c7-0ab226fe0774",
   "metadata": {},
   "source": [
    "# Getting first root node"
   ]
  },
  {
   "cell_type": "code",
   "execution_count": 5,
   "id": "3e07210a-2b6d-4e32-9bc7-6052f1e7f0fd",
   "metadata": {},
   "outputs": [],
   "source": [
    "def genneate_gini_map(dataset):\n",
    "    gini_index_map = {}\n",
    "    columns = dataset.columns\n",
    "    \n",
    "    for col in columns:\n",
    "        if col != key_feature:\n",
    "            gini_index_map[col] = gini_impurity_feature(dataset, col)\n",
    "\n",
    "    return gini_index_map"
   ]
  },
  {
   "cell_type": "code",
   "execution_count": 6,
   "id": "91ab3ff2-1158-41f0-839d-7a2ba3a5784f",
   "metadata": {},
   "outputs": [
    {
     "name": "stdout",
     "output_type": "stream",
     "text": [
      "{\n",
      "    \"weather\": 0.34285714285714286,\n",
      "    \"temp\": 0.44047619047619047,\n",
      "    \"humidity\": 0.3673469387755103,\n",
      "    \"windy\": 0.42857142857142855\n",
      "}\n"
     ]
    }
   ],
   "source": [
    "import json\n",
    "\n",
    "gini_index_map = genneate_gini_map(data)\n",
    "print(json.dumps(gini_index_map, indent = 4))"
   ]
  },
  {
   "cell_type": "code",
   "execution_count": 7,
   "id": "2869d9d8-c3fb-4089-8c17-44793c49a9a7",
   "metadata": {},
   "outputs": [
    {
     "name": "stdout",
     "output_type": "stream",
     "text": [
      "First node: weather\n"
     ]
    }
   ],
   "source": [
    "root_feature = min(zip(gini_index_map.values(), gini_index_map.keys()))[1]\n",
    "print(f\"First node: {root_feature}\")"
   ]
  },
  {
   "cell_type": "markdown",
   "id": "2ccd9666-c02d-45cf-aea4-5c11fe6c694a",
   "metadata": {},
   "source": [
    "# First split"
   ]
  },
  {
   "cell_type": "code",
   "execution_count": 8,
   "id": "e2417453-b752-4e09-a99a-323e6c3fa8a5",
   "metadata": {},
   "outputs": [],
   "source": [
    "categories = data.weather.unique()\n",
    "\n",
    "split_1 = []\n",
    "for cat in categories:\n",
    "    split_1.append(data[data.weather == cat])"
   ]
  },
  {
   "cell_type": "code",
   "execution_count": 9,
   "id": "c0db3e38-d21d-4dcd-b6d1-3bd3fe0c934c",
   "metadata": {},
   "outputs": [
    {
     "data": {
      "text/html": [
       "<div>\n",
       "<style scoped>\n",
       "    .dataframe tbody tr th:only-of-type {\n",
       "        vertical-align: middle;\n",
       "    }\n",
       "\n",
       "    .dataframe tbody tr th {\n",
       "        vertical-align: top;\n",
       "    }\n",
       "\n",
       "    .dataframe thead th {\n",
       "        text-align: right;\n",
       "    }\n",
       "</style>\n",
       "<table border=\"1\" class=\"dataframe\">\n",
       "  <thead>\n",
       "    <tr style=\"text-align: right;\">\n",
       "      <th></th>\n",
       "      <th>weather</th>\n",
       "      <th>temp</th>\n",
       "      <th>humidity</th>\n",
       "      <th>windy</th>\n",
       "      <th>play</th>\n",
       "    </tr>\n",
       "  </thead>\n",
       "  <tbody>\n",
       "    <tr>\n",
       "      <th>0</th>\n",
       "      <td>sunny</td>\n",
       "      <td>hot</td>\n",
       "      <td>high</td>\n",
       "      <td>False</td>\n",
       "      <td>no</td>\n",
       "    </tr>\n",
       "    <tr>\n",
       "      <th>1</th>\n",
       "      <td>sunny</td>\n",
       "      <td>hot</td>\n",
       "      <td>high</td>\n",
       "      <td>True</td>\n",
       "      <td>no</td>\n",
       "    </tr>\n",
       "    <tr>\n",
       "      <th>7</th>\n",
       "      <td>sunny</td>\n",
       "      <td>mild</td>\n",
       "      <td>high</td>\n",
       "      <td>False</td>\n",
       "      <td>no</td>\n",
       "    </tr>\n",
       "    <tr>\n",
       "      <th>8</th>\n",
       "      <td>sunny</td>\n",
       "      <td>cool</td>\n",
       "      <td>normal</td>\n",
       "      <td>False</td>\n",
       "      <td>yes</td>\n",
       "    </tr>\n",
       "    <tr>\n",
       "      <th>10</th>\n",
       "      <td>sunny</td>\n",
       "      <td>mild</td>\n",
       "      <td>normal</td>\n",
       "      <td>True</td>\n",
       "      <td>yes</td>\n",
       "    </tr>\n",
       "  </tbody>\n",
       "</table>\n",
       "</div>"
      ],
      "text/plain": [
       "   weather  temp humidity  windy play\n",
       "0    sunny   hot     high  False   no\n",
       "1    sunny   hot     high   True   no\n",
       "7    sunny  mild     high  False   no\n",
       "8    sunny  cool   normal  False  yes\n",
       "10   sunny  mild   normal   True  yes"
      ]
     },
     "execution_count": 9,
     "metadata": {},
     "output_type": "execute_result"
    }
   ],
   "source": [
    "split_1[0]"
   ]
  },
  {
   "cell_type": "code",
   "execution_count": 10,
   "id": "96ff9ae3-0329-4d2a-a26c-9a1cf4cc81ea",
   "metadata": {},
   "outputs": [
    {
     "data": {
      "text/html": [
       "<div>\n",
       "<style scoped>\n",
       "    .dataframe tbody tr th:only-of-type {\n",
       "        vertical-align: middle;\n",
       "    }\n",
       "\n",
       "    .dataframe tbody tr th {\n",
       "        vertical-align: top;\n",
       "    }\n",
       "\n",
       "    .dataframe thead th {\n",
       "        text-align: right;\n",
       "    }\n",
       "</style>\n",
       "<table border=\"1\" class=\"dataframe\">\n",
       "  <thead>\n",
       "    <tr style=\"text-align: right;\">\n",
       "      <th></th>\n",
       "      <th>weather</th>\n",
       "      <th>temp</th>\n",
       "      <th>humidity</th>\n",
       "      <th>windy</th>\n",
       "      <th>play</th>\n",
       "    </tr>\n",
       "  </thead>\n",
       "  <tbody>\n",
       "    <tr>\n",
       "      <th>2</th>\n",
       "      <td>overcast</td>\n",
       "      <td>hot</td>\n",
       "      <td>high</td>\n",
       "      <td>False</td>\n",
       "      <td>yes</td>\n",
       "    </tr>\n",
       "    <tr>\n",
       "      <th>6</th>\n",
       "      <td>overcast</td>\n",
       "      <td>cool</td>\n",
       "      <td>normal</td>\n",
       "      <td>True</td>\n",
       "      <td>yes</td>\n",
       "    </tr>\n",
       "    <tr>\n",
       "      <th>11</th>\n",
       "      <td>overcast</td>\n",
       "      <td>mild</td>\n",
       "      <td>high</td>\n",
       "      <td>True</td>\n",
       "      <td>yes</td>\n",
       "    </tr>\n",
       "    <tr>\n",
       "      <th>12</th>\n",
       "      <td>overcast</td>\n",
       "      <td>hot</td>\n",
       "      <td>normal</td>\n",
       "      <td>False</td>\n",
       "      <td>yes</td>\n",
       "    </tr>\n",
       "  </tbody>\n",
       "</table>\n",
       "</div>"
      ],
      "text/plain": [
       "     weather  temp humidity  windy play\n",
       "2   overcast   hot     high  False  yes\n",
       "6   overcast  cool   normal   True  yes\n",
       "11  overcast  mild     high   True  yes\n",
       "12  overcast   hot   normal  False  yes"
      ]
     },
     "execution_count": 10,
     "metadata": {},
     "output_type": "execute_result"
    }
   ],
   "source": [
    "split_1[1]"
   ]
  },
  {
   "cell_type": "code",
   "execution_count": 11,
   "id": "7b795c9b-c3b0-43d1-8ec9-208eb721da43",
   "metadata": {},
   "outputs": [
    {
     "data": {
      "text/html": [
       "<div>\n",
       "<style scoped>\n",
       "    .dataframe tbody tr th:only-of-type {\n",
       "        vertical-align: middle;\n",
       "    }\n",
       "\n",
       "    .dataframe tbody tr th {\n",
       "        vertical-align: top;\n",
       "    }\n",
       "\n",
       "    .dataframe thead th {\n",
       "        text-align: right;\n",
       "    }\n",
       "</style>\n",
       "<table border=\"1\" class=\"dataframe\">\n",
       "  <thead>\n",
       "    <tr style=\"text-align: right;\">\n",
       "      <th></th>\n",
       "      <th>weather</th>\n",
       "      <th>temp</th>\n",
       "      <th>humidity</th>\n",
       "      <th>windy</th>\n",
       "      <th>play</th>\n",
       "    </tr>\n",
       "  </thead>\n",
       "  <tbody>\n",
       "    <tr>\n",
       "      <th>3</th>\n",
       "      <td>rainy</td>\n",
       "      <td>mild</td>\n",
       "      <td>high</td>\n",
       "      <td>False</td>\n",
       "      <td>yes</td>\n",
       "    </tr>\n",
       "    <tr>\n",
       "      <th>4</th>\n",
       "      <td>rainy</td>\n",
       "      <td>cool</td>\n",
       "      <td>normal</td>\n",
       "      <td>False</td>\n",
       "      <td>yes</td>\n",
       "    </tr>\n",
       "    <tr>\n",
       "      <th>5</th>\n",
       "      <td>rainy</td>\n",
       "      <td>cool</td>\n",
       "      <td>normal</td>\n",
       "      <td>True</td>\n",
       "      <td>no</td>\n",
       "    </tr>\n",
       "    <tr>\n",
       "      <th>9</th>\n",
       "      <td>rainy</td>\n",
       "      <td>mild</td>\n",
       "      <td>normal</td>\n",
       "      <td>False</td>\n",
       "      <td>yes</td>\n",
       "    </tr>\n",
       "    <tr>\n",
       "      <th>13</th>\n",
       "      <td>rainy</td>\n",
       "      <td>mild</td>\n",
       "      <td>high</td>\n",
       "      <td>True</td>\n",
       "      <td>no</td>\n",
       "    </tr>\n",
       "  </tbody>\n",
       "</table>\n",
       "</div>"
      ],
      "text/plain": [
       "   weather  temp humidity  windy play\n",
       "3    rainy  mild     high  False  yes\n",
       "4    rainy  cool   normal  False  yes\n",
       "5    rainy  cool   normal   True   no\n",
       "9    rainy  mild   normal  False  yes\n",
       "13   rainy  mild     high   True   no"
      ]
     },
     "execution_count": 11,
     "metadata": {},
     "output_type": "execute_result"
    }
   ],
   "source": [
    "split_1[2]"
   ]
  },
  {
   "cell_type": "markdown",
   "id": "dd6a36ae-8633-4fed-84db-d99d5fbde8cd",
   "metadata": {},
   "source": [
    "# Getting second root node"
   ]
  },
  {
   "cell_type": "code",
   "execution_count": 12,
   "id": "94edd73a-ad78-4cd6-a59b-c816d3390ee7",
   "metadata": {},
   "outputs": [
    {
     "name": "stdout",
     "output_type": "stream",
     "text": [
      "{\n",
      "    \"weather\": 0.48,\n",
      "    \"temp\": 0.2,\n",
      "    \"humidity\": 0.0,\n",
      "    \"windy\": 0.4666666666666667\n",
      "}\n"
     ]
    }
   ],
   "source": [
    "gini_index_map = genneate_gini_map(split_1[0])\n",
    "print(json.dumps(gini_index_map, indent = 4))"
   ]
  },
  {
   "cell_type": "code",
   "execution_count": 13,
   "id": "7146a1ab-e4f2-4a20-ad67-2983d8f1f870",
   "metadata": {},
   "outputs": [
    {
     "name": "stdout",
     "output_type": "stream",
     "text": [
      "Second node: humidity\n"
     ]
    }
   ],
   "source": [
    "root_feature = min(zip(gini_index_map.values(), gini_index_map.keys()))[1]\n",
    "print(f\"Second node: {root_feature}\")"
   ]
  },
  {
   "cell_type": "markdown",
   "id": "09a6df9e-015b-4fbb-87ca-f01a8787c4ed",
   "metadata": {},
   "source": [
    "# Second split"
   ]
  },
  {
   "cell_type": "code",
   "execution_count": 14,
   "id": "edcd976a-8457-4afb-bc99-e0485760bdaa",
   "metadata": {},
   "outputs": [],
   "source": [
    "categories = data.humidity.unique()\n",
    "\n",
    "split_2 = []\n",
    "for cat in categories:\n",
    "    split_2.append(split_1[0][split_1[0].humidity == cat])"
   ]
  },
  {
   "cell_type": "code",
   "execution_count": 15,
   "id": "93cb6e80-449a-4140-93e3-f9ff12e1f6f4",
   "metadata": {},
   "outputs": [
    {
     "data": {
      "text/html": [
       "<div>\n",
       "<style scoped>\n",
       "    .dataframe tbody tr th:only-of-type {\n",
       "        vertical-align: middle;\n",
       "    }\n",
       "\n",
       "    .dataframe tbody tr th {\n",
       "        vertical-align: top;\n",
       "    }\n",
       "\n",
       "    .dataframe thead th {\n",
       "        text-align: right;\n",
       "    }\n",
       "</style>\n",
       "<table border=\"1\" class=\"dataframe\">\n",
       "  <thead>\n",
       "    <tr style=\"text-align: right;\">\n",
       "      <th></th>\n",
       "      <th>weather</th>\n",
       "      <th>temp</th>\n",
       "      <th>humidity</th>\n",
       "      <th>windy</th>\n",
       "      <th>play</th>\n",
       "    </tr>\n",
       "  </thead>\n",
       "  <tbody>\n",
       "    <tr>\n",
       "      <th>0</th>\n",
       "      <td>sunny</td>\n",
       "      <td>hot</td>\n",
       "      <td>high</td>\n",
       "      <td>False</td>\n",
       "      <td>no</td>\n",
       "    </tr>\n",
       "    <tr>\n",
       "      <th>1</th>\n",
       "      <td>sunny</td>\n",
       "      <td>hot</td>\n",
       "      <td>high</td>\n",
       "      <td>True</td>\n",
       "      <td>no</td>\n",
       "    </tr>\n",
       "    <tr>\n",
       "      <th>7</th>\n",
       "      <td>sunny</td>\n",
       "      <td>mild</td>\n",
       "      <td>high</td>\n",
       "      <td>False</td>\n",
       "      <td>no</td>\n",
       "    </tr>\n",
       "  </tbody>\n",
       "</table>\n",
       "</div>"
      ],
      "text/plain": [
       "  weather  temp humidity  windy play\n",
       "0   sunny   hot     high  False   no\n",
       "1   sunny   hot     high   True   no\n",
       "7   sunny  mild     high  False   no"
      ]
     },
     "execution_count": 15,
     "metadata": {},
     "output_type": "execute_result"
    }
   ],
   "source": [
    "split_2[0]"
   ]
  },
  {
   "cell_type": "code",
   "execution_count": 16,
   "id": "b4893179-b30d-4a7c-b27c-5cca08f53e03",
   "metadata": {},
   "outputs": [
    {
     "data": {
      "text/html": [
       "<div>\n",
       "<style scoped>\n",
       "    .dataframe tbody tr th:only-of-type {\n",
       "        vertical-align: middle;\n",
       "    }\n",
       "\n",
       "    .dataframe tbody tr th {\n",
       "        vertical-align: top;\n",
       "    }\n",
       "\n",
       "    .dataframe thead th {\n",
       "        text-align: right;\n",
       "    }\n",
       "</style>\n",
       "<table border=\"1\" class=\"dataframe\">\n",
       "  <thead>\n",
       "    <tr style=\"text-align: right;\">\n",
       "      <th></th>\n",
       "      <th>weather</th>\n",
       "      <th>temp</th>\n",
       "      <th>humidity</th>\n",
       "      <th>windy</th>\n",
       "      <th>play</th>\n",
       "    </tr>\n",
       "  </thead>\n",
       "  <tbody>\n",
       "    <tr>\n",
       "      <th>8</th>\n",
       "      <td>sunny</td>\n",
       "      <td>cool</td>\n",
       "      <td>normal</td>\n",
       "      <td>False</td>\n",
       "      <td>yes</td>\n",
       "    </tr>\n",
       "    <tr>\n",
       "      <th>10</th>\n",
       "      <td>sunny</td>\n",
       "      <td>mild</td>\n",
       "      <td>normal</td>\n",
       "      <td>True</td>\n",
       "      <td>yes</td>\n",
       "    </tr>\n",
       "  </tbody>\n",
       "</table>\n",
       "</div>"
      ],
      "text/plain": [
       "   weather  temp humidity  windy play\n",
       "8    sunny  cool   normal  False  yes\n",
       "10   sunny  mild   normal   True  yes"
      ]
     },
     "execution_count": 16,
     "metadata": {},
     "output_type": "execute_result"
    }
   ],
   "source": [
    "split_2[1]"
   ]
  },
  {
   "cell_type": "markdown",
   "id": "28a8d6f5-7e5a-41d7-b17f-f913a85fa0f9",
   "metadata": {},
   "source": [
    "# Getting third root node"
   ]
  },
  {
   "cell_type": "code",
   "execution_count": 17,
   "id": "81ae8a7b-8b24-4aae-ba2e-1266672606b7",
   "metadata": {},
   "outputs": [
    {
     "name": "stdout",
     "output_type": "stream",
     "text": [
      "{\n",
      "    \"weather\": 0.48,\n",
      "    \"temp\": 0.4666666666666667,\n",
      "    \"humidity\": 0.4666666666666667,\n",
      "    \"windy\": 0.0\n",
      "}\n"
     ]
    }
   ],
   "source": [
    "gini_index_map = genneate_gini_map(split_1[2])\n",
    "print(json.dumps(gini_index_map, indent = 4))"
   ]
  },
  {
   "cell_type": "code",
   "execution_count": 18,
   "id": "c82d05b5-9e32-4e25-88d4-d6e4e16c5595",
   "metadata": {},
   "outputs": [
    {
     "name": "stdout",
     "output_type": "stream",
     "text": [
      "Third node: windy\n"
     ]
    }
   ],
   "source": [
    "root_feature = min(zip(gini_index_map.values(), gini_index_map.keys()))[1]\n",
    "print(f\"Third node: {root_feature}\")"
   ]
  },
  {
   "cell_type": "markdown",
   "id": "ab25eeea-d3cb-45da-bf77-068cf4b109c2",
   "metadata": {},
   "source": [
    "# Third split"
   ]
  },
  {
   "cell_type": "code",
   "execution_count": 19,
   "id": "3fbb8a4a-ae1d-43bc-a811-a9f05c55ee3f",
   "metadata": {},
   "outputs": [],
   "source": [
    "categories = data.windy.unique()\n",
    "\n",
    "split_3 = []\n",
    "for cat in categories:\n",
    "    split_3.append(split_1[2][split_1[2].windy == cat])"
   ]
  },
  {
   "cell_type": "code",
   "execution_count": 20,
   "id": "b58c5354-42cb-461a-b02b-d8492562e5f5",
   "metadata": {},
   "outputs": [
    {
     "data": {
      "text/html": [
       "<div>\n",
       "<style scoped>\n",
       "    .dataframe tbody tr th:only-of-type {\n",
       "        vertical-align: middle;\n",
       "    }\n",
       "\n",
       "    .dataframe tbody tr th {\n",
       "        vertical-align: top;\n",
       "    }\n",
       "\n",
       "    .dataframe thead th {\n",
       "        text-align: right;\n",
       "    }\n",
       "</style>\n",
       "<table border=\"1\" class=\"dataframe\">\n",
       "  <thead>\n",
       "    <tr style=\"text-align: right;\">\n",
       "      <th></th>\n",
       "      <th>weather</th>\n",
       "      <th>temp</th>\n",
       "      <th>humidity</th>\n",
       "      <th>windy</th>\n",
       "      <th>play</th>\n",
       "    </tr>\n",
       "  </thead>\n",
       "  <tbody>\n",
       "    <tr>\n",
       "      <th>3</th>\n",
       "      <td>rainy</td>\n",
       "      <td>mild</td>\n",
       "      <td>high</td>\n",
       "      <td>False</td>\n",
       "      <td>yes</td>\n",
       "    </tr>\n",
       "    <tr>\n",
       "      <th>4</th>\n",
       "      <td>rainy</td>\n",
       "      <td>cool</td>\n",
       "      <td>normal</td>\n",
       "      <td>False</td>\n",
       "      <td>yes</td>\n",
       "    </tr>\n",
       "    <tr>\n",
       "      <th>9</th>\n",
       "      <td>rainy</td>\n",
       "      <td>mild</td>\n",
       "      <td>normal</td>\n",
       "      <td>False</td>\n",
       "      <td>yes</td>\n",
       "    </tr>\n",
       "  </tbody>\n",
       "</table>\n",
       "</div>"
      ],
      "text/plain": [
       "  weather  temp humidity  windy play\n",
       "3   rainy  mild     high  False  yes\n",
       "4   rainy  cool   normal  False  yes\n",
       "9   rainy  mild   normal  False  yes"
      ]
     },
     "execution_count": 20,
     "metadata": {},
     "output_type": "execute_result"
    }
   ],
   "source": [
    "split_3[0]"
   ]
  },
  {
   "cell_type": "code",
   "execution_count": 21,
   "id": "a9eb3e37-6a66-4145-b4f0-39e59f6bbbda",
   "metadata": {},
   "outputs": [
    {
     "data": {
      "text/html": [
       "<div>\n",
       "<style scoped>\n",
       "    .dataframe tbody tr th:only-of-type {\n",
       "        vertical-align: middle;\n",
       "    }\n",
       "\n",
       "    .dataframe tbody tr th {\n",
       "        vertical-align: top;\n",
       "    }\n",
       "\n",
       "    .dataframe thead th {\n",
       "        text-align: right;\n",
       "    }\n",
       "</style>\n",
       "<table border=\"1\" class=\"dataframe\">\n",
       "  <thead>\n",
       "    <tr style=\"text-align: right;\">\n",
       "      <th></th>\n",
       "      <th>weather</th>\n",
       "      <th>temp</th>\n",
       "      <th>humidity</th>\n",
       "      <th>windy</th>\n",
       "      <th>play</th>\n",
       "    </tr>\n",
       "  </thead>\n",
       "  <tbody>\n",
       "    <tr>\n",
       "      <th>5</th>\n",
       "      <td>rainy</td>\n",
       "      <td>cool</td>\n",
       "      <td>normal</td>\n",
       "      <td>True</td>\n",
       "      <td>no</td>\n",
       "    </tr>\n",
       "    <tr>\n",
       "      <th>13</th>\n",
       "      <td>rainy</td>\n",
       "      <td>mild</td>\n",
       "      <td>high</td>\n",
       "      <td>True</td>\n",
       "      <td>no</td>\n",
       "    </tr>\n",
       "  </tbody>\n",
       "</table>\n",
       "</div>"
      ],
      "text/plain": [
       "   weather  temp humidity  windy play\n",
       "5    rainy  cool   normal   True   no\n",
       "13   rainy  mild     high   True   no"
      ]
     },
     "execution_count": 21,
     "metadata": {},
     "output_type": "execute_result"
    }
   ],
   "source": [
    "split_3[1]"
   ]
  },
  {
   "cell_type": "markdown",
   "id": "30318f62-2ad6-4139-9c82-a0025c7b8636",
   "metadata": {},
   "source": [
    "# Decision tree diagram\n",
    "![Decision tree](Diagram.png)\n",
    "\n",
    "As you can see, it is the same decision tree as the one we got from ID3.\n",
    "***"
   ]
  }
 ],
 "metadata": {
  "kernelspec": {
   "display_name": "Python 3 (ipykernel)",
   "language": "python",
   "name": "python3"
  },
  "language_info": {
   "codemirror_mode": {
    "name": "ipython",
    "version": 3
   },
   "file_extension": ".py",
   "mimetype": "text/x-python",
   "name": "python",
   "nbconvert_exporter": "python",
   "pygments_lexer": "ipython3",
   "version": "3.8.10"
  }
 },
 "nbformat": 4,
 "nbformat_minor": 5
}
